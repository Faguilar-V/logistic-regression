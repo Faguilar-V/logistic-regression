{
 "cells": [
  {
   "cell_type": "code",
   "execution_count": 438,
   "metadata": {},
   "outputs": [],
   "source": [
    "#Import the neccesary package\n",
    "import numpy as np\n",
    "import pandas as pd\n",
    "import seaborn as sn\n",
    "from matplotlib import pyplot as plt\n",
    "from sklearn import preprocessing"
   ]
  },
  {
   "cell_type": "code",
   "execution_count": 533,
   "metadata": {},
   "outputs": [],
   "source": [
    "#función para conseguir el conjunto de datos.\n",
    "from sklearn.impute import SimpleImputer#Missing values\n",
    "\n",
    "def read_data(file:str, col_names, val=0):#Replace with 0\n",
    "    data = pd.read_csv(file, sep = \" \" , names = col_names , header = None)\n",
    "    #Los datos nulos se encuentran señalados por un signo ?\n",
    "    #Data  with 00 or 0 reprecent n/a or not answer    \n",
    "    data.replace('?' , 0, inplace=True)\n",
    "    #Row with class not answer\n",
    "    if val==0:\n",
    "        data.drop(data.index[132], inplace=True)\n",
    "    #Label\n",
    "    label = data.loc[: , 'outcome'] #Labels\n",
    "    label.replace(\"3\" , 2,inplace= True)\n",
    "    label = label.astype(int)\n",
    "    #Filter columns\n",
    "    data.drop(columns = ['outcome', 'Hospital','lt_3', 'lt_2', 'naso_reflux_ph', 'abdom_total_protein', 'naso_reflux_ph', 'abdom_total_protein', 'abdominal_distension'], inplace = True)\n",
    "    #Normalization\n",
    "    #x = data.values#return a numpy array\n",
    "    #norm = preprocessing.MinMaxScaler()\n",
    "    #x_norm = norm.fit_transform(x)#Norm\n",
    "    #data = pd.DataFrame(x_norm)\n",
    "    return data, label\n",
    "def read_data_m(file:str, col_names, val=0):#Replace with 0\n",
    "    data = pd.read_csv(file, sep = \" \" , names = col_names , header = None)\n",
    "\n",
    "    #Los datos nulos se encuentran señalados por un signo ?\n",
    "    #Data  with 00 or 0 reprecent n/a or not answer    \n",
    "    data.replace('?' , 0, inplace=True)\n",
    "    imputer = SimpleImputer(missing_values=np.nan, strategy='median')\n",
    "    imputer.fit(data.values)\n",
    "    d = imputer.transform(data.values)\n",
    "    data = pd.DataFrame(d, columns=col_names)\n",
    "\n",
    "    #Row with class not answer\n",
    "    if val==0:\n",
    "        data.drop(data.index[132], inplace=True)\n",
    "    #Label\n",
    "    label = data.loc[: , 'outcome'] #Labels\n",
    "    label.replace(\"3\" , 2,inplace= True)\n",
    "    label = label.astype(int)\n",
    "    #Filter columns\n",
    "    data.drop(columns = ['outcome', 'Hospital', 'lt_3', 'lt_2', 'naso_reflux_ph', 'abdom_total_protein'], inplace = True)\n",
    "    #Normalization\n",
    "    x = data.values#return a numpy array\n",
    "    norm = preprocessing.MinMaxScaler()\n",
    "    x_norm = norm.fit_transform(x)#Norm\n",
    "    data = pd.DataFrame(x_norm)\n",
    "    return data, label\n",
    "\n",
    "if __name__ == '__main__':\n",
    "    col_names = ['surgery', 'Age', 'Hospital', 'rectal_temp', 'pulse', 'respiratory_rate', 'temp_extrimities', 'peripheral_pulse', 'mucous_membranes', 'capilary_refill', 'pain', 'peristalsis', 'abdominal_distension', 'nasogastric_tube', 'naso_reflux', 'naso_reflux_ph', 'rectal_exam_faces', 'abdomen', 'packed_cell_vol', 'total_protein', 'abdom_apperance', 'abdom_total_protein', 'outcome', 'surgicl_lesion', 'lt_1', 'lt_2', 'lt_3', 'pathology_case']\n",
    "    #For mmissing val = 0\n",
    "    df_train, label = read_data('horse-colic.data', col_names)\n",
    "    df_test, label_test = read_data('horse-colic.test', col_names, val=1)\n",
    "    #For missing val = median\n",
    "    df_train_m, label_m = read_data_m('horse-colic.data', col_names)\n",
    "    df_test_m, label_test_m = read_data_m('horse-colic.test', col_names, val=1)\n",
    "    \n",
    "    n, m = df_train.shape"
   ]
  },
  {
   "cell_type": "code",
   "execution_count": 534,
   "metadata": {},
   "outputs": [
    {
     "name": "stdout",
     "output_type": "stream",
     "text": [
      "(299, 21)\n",
      "0.7647058823529411\n"
     ]
    },
    {
     "name": "stderr",
     "output_type": "stream",
     "text": [
      "/home/fermat/anaconda3/lib/python3.7/site-packages/sklearn/linear_model/_logistic.py:940: ConvergenceWarning: lbfgs failed to converge (status=1):\n",
      "STOP: TOTAL NO. of ITERATIONS REACHED LIMIT.\n",
      "\n",
      "Increase the number of iterations (max_iter) or scale the data as shown in:\n",
      "    https://scikit-learn.org/stable/modules/preprocessing.html\n",
      "Please also refer to the documentation for alternative solver options:\n",
      "    https://scikit-learn.org/stable/modules/linear_model.html#logistic-regression\n",
      "  extra_warning_msg=_LOGISTIC_SOLVER_CONVERGENCE_MSG)\n"
     ]
    },
    {
     "data": {
      "text/plain": [
       "0.7205882352941176"
      ]
     },
     "execution_count": 534,
     "metadata": {},
     "output_type": "execute_result"
    }
   ],
   "source": [
    "\n",
    "#Libraries for create the model\n",
    "from sklearn.linear_model import LogisticRegression\n",
    "from sklearn.metrics import accuracy_score\n",
    "\n",
    "d = {}\n",
    "X_train, y_train = df_train, label\n",
    "print(X_train.shape)\n",
    "X_test, y_test = df_test, label_test\n",
    "#Train part\n",
    "#model\n",
    "clf = LogisticRegression(random_state=0)\n",
    "clf.fit(X_train, y_train)\n",
    "y_pred = clf.predict(X_test)\n",
    "print(accuracy_score(y_test , y_pred))\n",
    "################################\n",
    "##############\n",
    "X_train, y_train = df_train_m, label_m\n",
    "X_test, y_test = df_test_m, label_test_m\n",
    "\n",
    "#Train part\n",
    "#model\n",
    "clf = LogisticRegression(random_state=0)\n",
    "clf.fit(X_train, y_train)\n",
    "y_pred = clf.predict(X_test)\n",
    "accuracy_score(y_test , y_pred)"
   ]
  },
  {
   "cell_type": "code",
   "execution_count": 511,
   "metadata": {
    "scrolled": true
   },
   "outputs": [],
   "source": [
    "#Plot porcentage missing values\n",
    "#miss_val = (df_train.count().to_numpy() / n) * 100\n",
    "#fig, ax = plt.subplots(figsize=(8, 16))\n",
    "#ax.scatter(miss_val, col_names)\n",
    "#for i in range(m):\n",
    "#    porce = round(miss_val[i], 2)\n",
    "#    aux = col_names[i] + '   %s %%' %(porce)\n",
    "#    ax.annotate(aux, (porce, col_names[i], ))"
   ]
  },
  {
   "cell_type": "code",
   "execution_count": 512,
   "metadata": {},
   "outputs": [
    {
     "data": {
      "image/png": "[encoded data removed]",
      "text/plain": [
       "<Figure size 432x288 with 2 Axes>"
      ]
     },
     "metadata": {
      "needs_background": "light"
     },
     "output_type": "display_data"
    }
   ],
   "source": [
    "corrMatrix = df_train.corr()\n",
    "sn.heatmap(corrMatrix, annot=True)\n",
    "plt.show()"
   ]
  },
  {
   "cell_type": "code",
   "execution_count": 514,
   "metadata": {},
   "outputs": [
    {
     "data": {
      "text/html": [
       "<div>\n",
       "<style scoped>\n",
       "    .dataframe tbody tr th:only-of-type {\n",
       "        vertical-align: middle;\n",
       "    }\n",
       "\n",
       "    .dataframe tbody tr th {\n",
       "        vertical-align: top;\n",
       "    }\n",
       "\n",
       "    .dataframe thead th {\n",
       "        text-align: right;\n",
       "    }\n",
       "</style>\n",
       "<table border=\"1\" class=\"dataframe\">\n",
       "  <thead>\n",
       "    <tr style=\"text-align: right;\">\n",
       "      <th></th>\n",
       "      <th>Atr</th>\n",
       "      <th>miss_val</th>\n",
       "    </tr>\n",
       "  </thead>\n",
       "  <tbody>\n",
       "    <tr>\n",
       "      <th>12</th>\n",
       "      <td>abdominal_distension</td>\n",
       "      <td>65.217391</td>\n",
       "    </tr>\n",
       "    <tr>\n",
       "      <th>13</th>\n",
       "      <td>nasogastric_tube</td>\n",
       "      <td>64.548495</td>\n",
       "    </tr>\n",
       "    <tr>\n",
       "      <th>14</th>\n",
       "      <td>naso_reflux</td>\n",
       "      <td>65.886288</td>\n",
       "    </tr>\n",
       "    <tr>\n",
       "      <th>15</th>\n",
       "      <td>naso_reflux_ph</td>\n",
       "      <td>60.535117</td>\n",
       "    </tr>\n",
       "    <tr>\n",
       "      <th>18</th>\n",
       "      <td>packed_cell_vol</td>\n",
       "      <td>44.816054</td>\n",
       "    </tr>\n",
       "  </tbody>\n",
       "</table>\n",
       "</div>"
      ],
      "text/plain": [
       "                     Atr   miss_val\n",
       "12  abdominal_distension  65.217391\n",
       "13      nasogastric_tube  64.548495\n",
       "14           naso_reflux  65.886288\n",
       "15        naso_reflux_ph  60.535117\n",
       "18       packed_cell_vol  44.816054"
      ]
     },
     "execution_count": 514,
     "metadata": {},
     "output_type": "execute_result"
    }
   ],
   "source": [
    "#For get the name column of missing values \n",
    "data = []\n",
    "for i in range(m):\n",
    "    data.append([col_names[i], miss_val[i]])\n",
    "df = pd.DataFrame(data, columns=['Atr', 'miss_val'])\n",
    "df[df['miss_val'] <= 70]"
   ]
  },
  {
   "cell_type": "code",
   "execution_count": null,
   "metadata": {},
   "outputs": [],
   "source": []
  },
  {
   "cell_type": "code",
   "execution_count": null,
   "metadata": {},
   "outputs": [],
   "source": []
  },
  {
   "cell_type": "code",
   "execution_count": null,
   "metadata": {},
   "outputs": [],
   "source": []
  },
  {
   "cell_type": "code",
   "execution_count": null,
   "metadata": {},
   "outputs": [],
   "source": []
  },
  {
   "cell_type": "code",
   "execution_count": null,
   "metadata": {},
   "outputs": [],
   "source": []
  }
 ],
 "metadata": {
  "kernelspec": {
   "display_name": "Python 3",
   "language": "python",
   "name": "python3"
  },
  "language_info": {
   "codemirror_mode": {
    "name": "ipython",
    "version": 3
   },
   "file_extension": ".py",
   "mimetype": "text/x-python",
   "name": "python",
   "nbconvert_exporter": "python",
   "pygments_lexer": "ipython3",
   "version": "3.7.6"
  }
 },
 "nbformat": 4,
 "nbformat_minor": 4
}
